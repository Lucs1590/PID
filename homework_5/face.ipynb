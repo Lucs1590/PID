{
  "nbformat": 4,
  "nbformat_minor": 0,
  "metadata": {
    "colab": {
      "name": "face.ipynb",
      "provenance": [],
      "collapsed_sections": [
        "a8Wsb-tWZJ3u"
      ],
      "toc_visible": true,
      "authorship_tag": "ABX9TyM0/Yg/QPbMqVUoAbrY298q",
      "include_colab_link": true
    },
    "kernelspec": {
      "name": "python3",
      "display_name": "Python 3"
    }
  },
  "cells": [
    {
      "cell_type": "markdown",
      "metadata": {
        "id": "view-in-github",
        "colab_type": "text"
      },
      "source": [
        "<a href=\"https://colab.research.google.com/github/Lucs1590/PID/blob/master/homework_5/face.ipynb\" target=\"_parent\"><img src=\"https://colab.research.google.com/assets/colab-badge.svg\" alt=\"Open In Colab\"/></a>"
      ]
    },
    {
      "cell_type": "markdown",
      "metadata": {
        "id": "UxahEJaJcZEG"
      },
      "source": [
        "# Import Libraries"
      ]
    },
    {
      "cell_type": "code",
      "metadata": {
        "id": "qk2KeNvYcfU2"
      },
      "source": [
        "import os\n",
        "import cv2\n",
        "\n",
        "from os import path\n",
        "from matplotlib import pyplot as plt\n",
        "\n",
        "import gdown\n",
        "import tarfile\n",
        "import zipfile"
      ],
      "execution_count": null,
      "outputs": []
    },
    {
      "cell_type": "markdown",
      "metadata": {
        "id": "a8Wsb-tWZJ3u"
      },
      "source": [
        "# Get Faces Dataset (ARFACE)\n",
        "First, we will check if the data set is here, if not, we will download it.\n"
      ]
    },
    {
      "cell_type": "code",
      "metadata": {
        "id": "DBa_Y0eVkVUi"
      },
      "source": [
        "def unzip_file(_file, destination):\n",
        "    with zipfile.ZipFile(_file, 'r') as zip_ref:\n",
        "      zip_ref.extractall(destination)\n",
        "    os.remove(_file)"
      ],
      "execution_count": null,
      "outputs": []
    },
    {
      "cell_type": "code",
      "metadata": {
        "id": "_97w0_zJfD6a"
      },
      "source": [
        "def get_dataset(output, destination):\n",
        "  url = 'https://drive.google.com/u/2/uc?export=download&confirm=HiLF&id=1BQuEQfmMiA_cEYmvkQDCnYAJd_TT3rCk'\n",
        "  try:\n",
        "    gdown.download(url, output, quiet=False)\n",
        "    unzip_file(output, destination)\n",
        "\n",
        "  except Exception:\n",
        "    raise ConnectionError(\n",
        "        'you need to be connected to some internet network to download the database.')"
      ],
      "execution_count": null,
      "outputs": []
    },
    {
      "cell_type": "code",
      "metadata": {
        "id": "TcoY1V9vcpbq"
      },
      "source": [
        "def load_dataset():\n",
        "  _path = path.abspath(os.getcwd())\n",
        "  destination = _path + '/arface'\n",
        "  dataset_file = destination + '/arface.zip'\n",
        "\n",
        "  if not path.isdir(destination):\n",
        "    os.mkdir(_path+'/arface')\n",
        "\n",
        "  if not path.isdir(destination + '/face'):\n",
        "    get_dataset(dataset_file, destination)\n",
        "  elif path.isfile(dataset_file):\n",
        "    unzip_file(dataset_file, destination)\n",
        "  else:\n",
        "    raise OSError(\n",
        "            'the default directory of Python is not found.')"
      ],
      "execution_count": null,
      "outputs": []
    },
    {
      "cell_type": "code",
      "metadata": {
        "colab": {
          "base_uri": "https://localhost:8080/",
          "height": 104
        },
        "id": "GDGyrAhxi703",
        "outputId": "134fc1be-6a86-4ac6-9cd9-025da661f468"
      },
      "source": [
        "load_dataset()\n",
        "''' import shutil\n",
        "_path = path.abspath(os.getcwd())\n",
        "destination = _path + '/arface'\n",
        "shutil.rmtree(destination) '''"
      ],
      "execution_count": null,
      "outputs": [
        {
          "output_type": "stream",
          "text": [
            "Downloading...\n",
            "From: https://drive.google.com/u/2/uc?export=download&confirm=HiLF&id=1BQuEQfmMiA_cEYmvkQDCnYAJd_TT3rCk\n",
            "To: /content/arface/arface.zip\n",
            "760MB [00:14, 54.1MB/s]\n"
          ],
          "name": "stderr"
        },
        {
          "output_type": "execute_result",
          "data": {
            "application/vnd.google.colaboratory.intrinsic+json": {
              "type": "string"
            },
            "text/plain": [
              "\" import shutil\\n_path = path.abspath(os.getcwd())\\ndestination = _path + '/arface'\\nshutil.rmtree(destination) \""
            ]
          },
          "metadata": {
            "tags": []
          },
          "execution_count": 6
        }
      ]
    },
    {
      "cell_type": "markdown",
      "metadata": {
        "id": "q4LiG142vz6z"
      },
      "source": [
        "# MTCNN Face Detection"
      ]
    },
    {
      "cell_type": "code",
      "metadata": {
        "id": "FfR6Q-xFv5bo"
      },
      "source": [
        ""
      ],
      "execution_count": null,
      "outputs": []
    },
    {
      "cell_type": "markdown",
      "metadata": {
        "id": "GKP5b0Jvv7vE"
      },
      "source": [
        "# Local Binary Pattern (LBP)"
      ]
    },
    {
      "cell_type": "code",
      "metadata": {
        "id": "1oWostVfwBrM"
      },
      "source": [
        ""
      ],
      "execution_count": null,
      "outputs": []
    },
    {
      "cell_type": "markdown",
      "metadata": {
        "id": "WqixEZ3e54uQ"
      },
      "source": [
        "# Comparison Metrics\n",
        "Here we use metrics like ROC, CMC, Rank-1, Precision-Recall, EER, F-Measure, AUC (Area Under Curve)."
      ]
    },
    {
      "cell_type": "code",
      "metadata": {
        "id": "DpnW8RrC6UYR"
      },
      "source": [
        ""
      ],
      "execution_count": null,
      "outputs": []
    },
    {
      "cell_type": "markdown",
      "metadata": {
        "id": "SSgad9rM64s5"
      },
      "source": [
        "# Apply Filters\n",
        "In this step, filters are placed randomly in the image, so that it is possible to visualize the influence of factors such as lighting, for example."
      ]
    },
    {
      "cell_type": "code",
      "metadata": {
        "id": "fKxhPxoi64XX"
      },
      "source": [
        ""
      ],
      "execution_count": null,
      "outputs": []
    },
    {
      "cell_type": "markdown",
      "metadata": {
        "id": "NOq88D6S83ES"
      },
      "source": [
        "# Comparison Between Genuine and Imposter"
      ]
    },
    {
      "cell_type": "code",
      "metadata": {
        "id": "SWPpC08888jC"
      },
      "source": [
        ""
      ],
      "execution_count": null,
      "outputs": []
    },
    {
      "cell_type": "markdown",
      "metadata": {
        "id": "oXOZ81SJ9C9T"
      },
      "source": [
        "# Siamese Network\n"
      ]
    },
    {
      "cell_type": "code",
      "metadata": {
        "id": "9HiMuRPS9FhZ"
      },
      "source": [
        ""
      ],
      "execution_count": null,
      "outputs": []
    }
  ]
}